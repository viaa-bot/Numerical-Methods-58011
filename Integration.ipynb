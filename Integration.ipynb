{
  "nbformat": 4,
  "nbformat_minor": 0,
  "metadata": {
    "colab": {
      "name": "Untitled10.ipynb",
      "provenance": [],
      "authorship_tag": "ABX9TyMQEjTN/tewXpSmRb2ep6ng",
      "include_colab_link": true
    },
    "kernelspec": {
      "name": "python3",
      "display_name": "Python 3"
    },
    "language_info": {
      "name": "python"
    }
  },
  "cells": [
    {
      "cell_type": "markdown",
      "metadata": {
        "id": "view-in-github",
        "colab_type": "text"
      },
      "source": [
        "<a href=\"https://colab.research.google.com/github/viaa-bot/Numerical-Methods-58011/blob/main/Integration.ipynb\" target=\"_parent\"><img src=\"https://colab.research.google.com/assets/colab-badge.svg\" alt=\"Open In Colab\"/></a>"
      ]
    },
    {
      "cell_type": "code",
      "execution_count": 5,
      "metadata": {
        "colab": {
          "base_uri": "https://localhost:8080/"
        },
        "id": "1Z6vPhmZ8ISu",
        "outputId": "51cfe214-0280-4b12-d589-0068b9fe12ed"
      },
      "outputs": [
        {
          "output_type": "execute_result",
          "data": {
            "text/plain": [
              "0.33335"
            ]
          },
          "metadata": {},
          "execution_count": 5
        }
      ],
      "source": [
        "import numpy as np\n",
        "import scipy.integrate as integrate\n",
        "import matplotlib.pyplot as plt\n",
        "# Our integral approximation function\n",
        "def integral_approximation(f, a, b):\n",
        "    return (b-a)*np.mean(f)\n",
        "# Integrate f(x) = x^2\n",
        "def f1(x):\n",
        "    return x**2\n",
        "# Define bounds of integral\n",
        "a = 0\n",
        "b = 1\n",
        "# Generate function values\n",
        "x_range = np.arange(a,b+0.0001,.0001)\n",
        "fx = f1(x_range)\n",
        "# Approximate integral\n",
        "approx = integral_approximation(fx,a,b)\n",
        "approx"
      ]
    }
  ]
}