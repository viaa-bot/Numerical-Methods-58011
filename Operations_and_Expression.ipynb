{
  "nbformat": 4,
  "nbformat_minor": 0,
  "metadata": {
    "colab": {
      "name": "Operations and Expression.ipynb",
      "provenance": [],
      "collapsed_sections": [],
      "authorship_tag": "ABX9TyM0KE6QyVJ6FCsrLaRU8NgF",
      "include_colab_link": true
    },
    "kernelspec": {
      "name": "python3",
      "display_name": "Python 3"
    },
    "language_info": {
      "name": "python"
    }
  },
  "cells": [
    {
      "cell_type": "markdown",
      "metadata": {
        "id": "view-in-github",
        "colab_type": "text"
      },
      "source": [
        "<a href=\"https://colab.research.google.com/github/viaa-bot/Numerical-Methods-58011/blob/main/Operations_and_Expression.ipynb\" target=\"_parent\"><img src=\"https://colab.research.google.com/assets/colab-badge.svg\" alt=\"Open In Colab\"/></a>"
      ]
    },
    {
      "cell_type": "markdown",
      "source": [
        "##Boolean Operators"
      ],
      "metadata": {
        "id": "T1rtKKtpJ94s"
      }
    },
    {
      "cell_type": "code",
      "execution_count": null,
      "metadata": {
        "colab": {
          "base_uri": "https://localhost:8080/"
        },
        "id": "_x-A1ZGmJ7RW",
        "outputId": "2564bf19-da09-44bf-9917-b7115523f391"
      },
      "outputs": [
        {
          "output_type": "stream",
          "name": "stdout",
          "text": [
            "True\n",
            "False\n",
            "False\n"
          ]
        }
      ],
      "source": [
        "print(10>9)\n",
        "print(10<9)\n",
        "print(10==9)"
      ]
    },
    {
      "cell_type": "code",
      "source": [
        "a=10\n",
        "b=9\n",
        "print(a>b)\n",
        "print(a<b)\n",
        "print(a==b)"
      ],
      "metadata": {
        "colab": {
          "base_uri": "https://localhost:8080/"
        },
        "id": "VZBWWvliKmCi",
        "outputId": "eae0745f-3096-494b-833d-e60b859325a3"
      },
      "execution_count": null,
      "outputs": [
        {
          "output_type": "stream",
          "name": "stdout",
          "text": [
            "True\n",
            "False\n",
            "False\n"
          ]
        }
      ]
    },
    {
      "cell_type": "markdown",
      "source": [
        "##Bool Function"
      ],
      "metadata": {
        "id": "ILrVQCicLEqR"
      }
    },
    {
      "cell_type": "code",
      "source": [
        "print(bool(5))\n",
        "print(bool(\"Maria\"))\n",
        "\n",
        "print(bool(0))\n",
        "print(bool(1))\n",
        "\n",
        "print(bool(None))\n",
        "print(bool([]))"
      ],
      "metadata": {
        "colab": {
          "base_uri": "https://localhost:8080/"
        },
        "id": "r0HuIy2KLJiG",
        "outputId": "5aa8c561-d680-45b9-e7c8-819885fcac0c"
      },
      "execution_count": null,
      "outputs": [
        {
          "output_type": "stream",
          "name": "stdout",
          "text": [
            "True\n",
            "True\n",
            "False\n",
            "True\n",
            "False\n",
            "False\n"
          ]
        }
      ]
    },
    {
      "cell_type": "markdown",
      "source": [
        "##Functions can return a Boolean"
      ],
      "metadata": {
        "id": "Z34UEeFKLvTJ"
      }
    },
    {
      "cell_type": "code",
      "source": [
        "def myFunction():\n",
        " return True\n",
        "\n",
        "print(myFunction())"
      ],
      "metadata": {
        "colab": {
          "base_uri": "https://localhost:8080/"
        },
        "id": "0SSmrHHjLs64",
        "outputId": "6dfb039c-5d20-4778-8b4a-431325fb03c1"
      },
      "execution_count": null,
      "outputs": [
        {
          "output_type": "stream",
          "name": "stdout",
          "text": [
            "True\n"
          ]
        }
      ]
    },
    {
      "cell_type": "code",
      "source": [
        "if myFunction():\n",
        "  print(\"yes\")\n",
        "\n",
        "else:\n",
        "  print(\"no\")"
      ],
      "metadata": {
        "colab": {
          "base_uri": "https://localhost:8080/"
        },
        "id": "EnNEjFDiMXbJ",
        "outputId": "41e7d4bb-eb41-4f45-e270-ef55ef93d43e"
      },
      "execution_count": null,
      "outputs": [
        {
          "output_type": "stream",
          "name": "stdout",
          "text": [
            "yes\n"
          ]
        }
      ]
    },
    {
      "cell_type": "markdown",
      "source": [
        "##Application"
      ],
      "metadata": {
        "id": "9MEP7CEJM01z"
      }
    },
    {
      "cell_type": "code",
      "source": [
        "print(10>9)\n",
        "\n",
        "a=6\n",
        "b=7\n",
        "print(a==b)\n",
        "print(a!=a)"
      ],
      "metadata": {
        "colab": {
          "base_uri": "https://localhost:8080/"
        },
        "id": "dfd_mGLhM4ju",
        "outputId": "5ad37292-518b-4b55-d422-da8fd9b6ecf5"
      },
      "execution_count": null,
      "outputs": [
        {
          "output_type": "stream",
          "name": "stdout",
          "text": [
            "True\n",
            "False\n",
            "False\n"
          ]
        }
      ]
    },
    {
      "cell_type": "markdown",
      "source": [
        "##Python Operators"
      ],
      "metadata": {
        "id": "SSrk5NquOWRb"
      }
    },
    {
      "cell_type": "code",
      "source": [
        "print(10+9)\n",
        "print(10-9)\n",
        "print(10*2)\n",
        "print(10/2)\n",
        "print(10**2)"
      ],
      "metadata": {
        "colab": {
          "base_uri": "https://localhost:8080/"
        },
        "id": "z4zf_sDSObZJ",
        "outputId": "6890fb11-4c98-4260-89bd-21a463642f01"
      },
      "execution_count": null,
      "outputs": [
        {
          "output_type": "stream",
          "name": "stdout",
          "text": [
            "19\n",
            "1\n",
            "20\n",
            "5.0\n",
            "100\n"
          ]
        }
      ]
    },
    {
      "cell_type": "markdown",
      "source": [
        "##Python Bitwise Operators"
      ],
      "metadata": {
        "id": "Ob83gNQPPse1"
      }
    },
    {
      "cell_type": "code",
      "source": [
        "a=60\n",
        "b=13\n",
        "\n",
        "print(a&b)\n",
        "print(a|b)"
      ],
      "metadata": {
        "colab": {
          "base_uri": "https://localhost:8080/"
        },
        "id": "-mJqxOBlPnjN",
        "outputId": "84f02538-0eac-41a4-ccb9-696250e292d7"
      },
      "execution_count": null,
      "outputs": [
        {
          "output_type": "stream",
          "name": "stdout",
          "text": [
            "12\n",
            "61\n"
          ]
        }
      ]
    },
    {
      "cell_type": "markdown",
      "source": [
        "##Python Assignment Operators"
      ],
      "metadata": {
        "id": "6DAHkwUdQIUI"
      }
    },
    {
      "cell_type": "code",
      "source": [
        "a+=3 #The same as a = a+3\n",
        "\n",
        "print(a)"
      ],
      "metadata": {
        "colab": {
          "base_uri": "https://localhost:8080/"
        },
        "id": "eRZkod84QKm9",
        "outputId": "cafb5a50-090c-4442-f280-4fc304c33d39"
      },
      "execution_count": null,
      "outputs": [
        {
          "output_type": "stream",
          "name": "stdout",
          "text": [
            "63\n"
          ]
        }
      ]
    },
    {
      "cell_type": "markdown",
      "source": [
        "##Python Logical Operators"
      ],
      "metadata": {
        "id": "Us4NJsUzRDvS"
      }
    },
    {
      "cell_type": "code",
      "source": [
        "a=True\n",
        "b=False\n",
        "\n",
        "a and b\n",
        "not(a or b)"
      ],
      "metadata": {
        "colab": {
          "base_uri": "https://localhost:8080/"
        },
        "id": "a6Vg5T5sRHF3",
        "outputId": "bbb2f798-8810-4097-967f-6a375ec3e7bf"
      },
      "execution_count": null,
      "outputs": [
        {
          "output_type": "execute_result",
          "data": {
            "text/plain": [
              "False"
            ]
          },
          "metadata": {},
          "execution_count": 41
        }
      ]
    },
    {
      "cell_type": "markdown",
      "source": [
        "##Identity Operators"
      ],
      "metadata": {
        "id": "HZIcI89PRsD0"
      }
    },
    {
      "cell_type": "code",
      "source": [
        "a is not b\n",
        "b is a"
      ],
      "metadata": {
        "colab": {
          "base_uri": "https://localhost:8080/"
        },
        "id": "Sqba_9ydR3Ds",
        "outputId": "c4687783-4245-4895-aa67-f9d1a14c4af1"
      },
      "execution_count": null,
      "outputs": [
        {
          "output_type": "execute_result",
          "data": {
            "text/plain": [
              "False"
            ]
          },
          "metadata": {},
          "execution_count": 43
        }
      ]
    }
  ]
}